{
 "cells": [
  {
   "cell_type": "markdown",
   "metadata": {},
   "source": [
    "# ml lesson2"
   ]
  },
  {
   "cell_type": "markdown",
   "metadata": {},
   "source": [
    "依然是courses/ml/lesson1的内容。\n",
    "视频时第二课。后面lesson编号根据视频来"
   ]
  },
  {
   "cell_type": "markdown",
   "metadata": {},
   "source": [
    "## 首先回顾一下上一课内容"
   ]
  },
  {
   "cell_type": "code",
   "execution_count": 1,
   "metadata": {},
   "outputs": [],
   "source": [
    "%load_ext autoreload\n",
    "%autoreload 2\n",
    "\n",
    "%matplotlib inline"
   ]
  },
  {
   "cell_type": "code",
   "execution_count": 2,
   "metadata": {},
   "outputs": [],
   "source": [
    "import sys\n",
    "sys.path.insert(0, \"F:\\\\fastai\\\\fastai1\\\\old\\\\\") "
   ]
  },
  {
   "cell_type": "code",
   "execution_count": 3,
   "metadata": {},
   "outputs": [
    {
     "name": "stderr",
     "output_type": "stream",
     "text": [
      "C:\\Users\\kongxiangyu\\anaconda3\\lib\\site-packages\\sklearn\\utils\\deprecation.py:143: FutureWarning: The sklearn.ensemble.forest module is  deprecated in version 0.22 and will be removed in version 0.24. The corresponding classes / functions should instead be imported from sklearn.ensemble. Anything that cannot be imported from sklearn.ensemble is now part of the private API.\n",
      "  warnings.warn(message, FutureWarning)\n"
     ]
    }
   ],
   "source": [
    "from fastai.imports import *\n",
    "from fastai0.structured import * #代码old目录中有老版本fastai，重命名了文件夹。\n",
    "\n",
    "from pandas_summary import DataFrameSummary\n",
    "from sklearn.ensemble import RandomForestRegressor, RandomForestClassifier\n",
    "from IPython.display import display\n",
    "\n",
    "from sklearn import metrics"
   ]
  },
  {
   "cell_type": "code",
   "execution_count": 4,
   "metadata": {},
   "outputs": [],
   "source": [
    "PATH = \"data\\\\bulldozers\\\\\""
   ]
  },
  {
   "cell_type": "code",
   "execution_count": 5,
   "metadata": {},
   "outputs": [],
   "source": [
    "df_raw = pd.read_feather('tmp/bulldozers-raw') #读取上一课保存的原始文件"
   ]
  },
  {
   "cell_type": "code",
   "execution_count": 6,
   "metadata": {},
   "outputs": [],
   "source": [
    "df, y, nas = proc_df(df_raw, 'SalePrice') #数据预处理"
   ]
  },
  {
   "cell_type": "code",
   "execution_count": 7,
   "metadata": {},
   "outputs": [
    {
     "data": {
      "text/plain": [
       "((389125, 66), (389125,), (12000, 66))"
      ]
     },
     "execution_count": 7,
     "metadata": {},
     "output_type": "execute_result"
    }
   ],
   "source": [
    "def split_vals(a,n): return a[:n].copy(), a[n:].copy()\n",
    "\n",
    "n_valid = 12000  # same as Kaggle's test set size\n",
    "n_trn = len(df)-n_valid\n",
    "raw_train, raw_valid = split_vals(df_raw, n_trn)\n",
    "X_train, X_valid = split_vals(df, n_trn)\n",
    "y_train, y_valid = split_vals(y, n_trn)\n",
    "\n",
    "X_train.shape, y_train.shape, X_valid.shape"
   ]
  },
  {
   "cell_type": "markdown",
   "metadata": {},
   "source": [
    "lesson1讲到这里了，将数据分为测试集和验证集。\n",
    "\n",
    "## 验证集的选择和效果评估\n",
    "\n",
    "验证集非常重要。要选取有典型性的验证集。 representation\n",
    "\n",
    "测试机选择了最后12000个，没有随机选择，因为数据时是时间相关的，如果随机选，训练集和验证集在时间上是重合的，容易过拟合。<p>\n",
    "因为测试集是之后不同的时间的数据"
   ]
  },
  {
   "cell_type": "code",
   "execution_count": 8,
   "metadata": {},
   "outputs": [],
   "source": [
    "def rmse(x,y): return math.sqrt(((x-y)**2).mean())\n",
    "\n",
    "def print_score(m):\n",
    "    res = [rmse(m.predict(X_train), y_train), rmse(m.predict(X_valid), y_valid),\n",
    "                m.score(X_train, y_train), m.score(X_valid, y_valid)]\n",
    "    if hasattr(m, 'oob_score_'): res.append(m.oob_score_)\n",
    "    print(res)"
   ]
  },
  {
   "cell_type": "markdown",
   "metadata": {},
   "source": [
    "这里计算了rmse，log在数据预处理中已经对salePrice做了转换，合起来就是RMSLE"
   ]
  },
  {
   "cell_type": "code",
   "execution_count": 20,
   "metadata": {},
   "outputs": [
    {
     "data": {
      "text/plain": [
       "array([11.09741, 10.95081,  9.21034, 10.55841,  9.30565])"
      ]
     },
     "execution_count": 20,
     "metadata": {},
     "output_type": "execute_result"
    }
   ],
   "source": [
    "y_train[:5]"
   ]
  },
  {
   "cell_type": "markdown",
   "metadata": {},
   "source": [
    "score方法计算的是r-square（确定系数）\n",
    " \n",
    "$$ R^2=1-\\frac{SS_{res}}{SS{tot}} $$\n",
    "\n",
    "其中，$SS_{res}$ 是Residual Sum of Squares（残差平方和）其中$\\hat{y_i}$即$f_i$，表示算法的预测值 $$SS_{res}=\\sum_{i=1}^n (y_i - \\hat{y_i})^2=\\sum_i e_i^2$$\n",
    "$SS_{tot}$ 是Total Sum of Squares，再除n就是方差 其中$\\overline{y}$表示y的均值 $$SS_{tot}=\\sum_i (y_i - \\overline{y})^2$$"
   ]
  },
  {
   "cell_type": "markdown",
   "metadata": {},
   "source": [
    "r-square可以是小于1的任意数。一般来说是0-1的数。这个数越接近1，说明模型预测结果越接近真实值\n",
    "\n",
    "如果值小于0，说明模型结果比间简单求均值还差，还不如瞎猜。。"
   ]
  },
  {
   "cell_type": "markdown",
   "metadata": {},
   "source": [
    "参考：https://www.jianshu.com/p/9ee85fdad150"
   ]
  },
  {
   "cell_type": "code",
   "execution_count": 22,
   "metadata": {},
   "outputs": [
    {
     "name": "stdout",
     "output_type": "stream",
     "text": [
      "Wall time: 10min 41s\n",
      "[0.0757920493335814, 0.23661346066887287, 0.9879944481916642, 0.9000168376154178]\n"
     ]
    }
   ],
   "source": [
    "m = RandomForestRegressor(n_jobs=-1)\n",
    "%time m.fit(X_train, y_train)\n",
    "print_score(m)"
   ]
  },
  {
   "cell_type": "markdown",
   "metadata": {},
   "source": [
    "可以看到，在验证集中，rmse和r-square都有降低"
   ]
  },
  {
   "cell_type": "markdown",
   "metadata": {},
   "source": [
    "> 执行时间超长，估计和电脑性能有关，可能需要设置GPU，有空再研究"
   ]
  },
  {
   "cell_type": "markdown",
   "metadata": {},
   "source": [
    "后面为了减少等到时间，改善交互效果，减少测试数据的量"
   ]
  },
  {
   "cell_type": "code",
   "execution_count": 9,
   "metadata": {},
   "outputs": [],
   "source": [
    "df_trn, y_trn, nas = proc_df(df_raw, 'SalePrice', subset=30000, na_dict=nas)\n",
    "X_train, _ = split_vals(df_trn, 20000)\n",
    "y_train, _ = split_vals(y_trn, 20000)"
   ]
  },
  {
   "cell_type": "markdown",
   "metadata": {},
   "source": [
    "在原始数据中随机取30000条数据，然后取其中前20000条，保证和验证集没有交叉\n",
    "\n",
    "验证集不变"
   ]
  },
  {
   "cell_type": "code",
   "execution_count": 29,
   "metadata": {},
   "outputs": [
    {
     "name": "stdout",
     "output_type": "stream",
     "text": [
      "Wall time: 3.96 s\n",
      "[0.09242412932036116, 0.38145134910667566, 0.9814890929636534, 0.7401478679746019]\n"
     ]
    }
   ],
   "source": [
    "m = RandomForestRegressor(n_jobs=-1)\n",
    "%time m.fit(X_train, y_train)\n",
    "print_score(m)"
   ]
  },
  {
   "cell_type": "markdown",
   "metadata": {},
   "source": [
    "由于训练数据变少，在验证集上的测试效果更差了"
   ]
  },
  {
   "cell_type": "markdown",
   "metadata": {},
   "source": [
    "## 下面开始介绍random forest，从单棵树开始"
   ]
  },
  {
   "cell_type": "code",
   "execution_count": 15,
   "metadata": {},
   "outputs": [
    {
     "name": "stdout",
     "output_type": "stream",
     "text": [
      "[0.5239333695331, 0.5840917339060955, 0.4022253301126788, 0.3907295792338825]\n"
     ]
    }
   ],
   "source": [
    "m = RandomForestRegressor(n_estimators=1, max_depth=3, bootstrap=False, n_jobs=-1)\n",
    "m.fit(X_train, y_train)\n",
    "print_score(m)"
   ]
  },
  {
   "cell_type": "markdown",
   "metadata": {},
   "source": [
    "上面创建了单棵树的模型，树的最大深度是3\n",
    "\n",
    "然后把树画出来"
   ]
  },
  {
   "cell_type": "code",
   "execution_count": 11,
   "metadata": {},
   "outputs": [
    {
     "data": {
      "image/svg+xml": [
       "<?xml version=\"1.0\" encoding=\"UTF-8\" standalone=\"no\"?>\r\n",
       "<!DOCTYPE svg PUBLIC \"-//W3C//DTD SVG 1.1//EN\"\r\n",
       " \"http://www.w3.org/Graphics/SVG/1.1/DTD/svg11.dtd\">\r\n",
       "<!-- Generated by graphviz version 2.47.1 (20210417.1919)\r\n",
       " -->\r\n",
       "<!-- Title: Tree Pages: 1 -->\r\n",
       "<svg width=\"720pt\" height=\"434pt\"\r\n",
       " viewBox=\"0.00 0.00 720.00 434.49\" xmlns=\"http://www.w3.org/2000/svg\" xmlns:xlink=\"http://www.w3.org/1999/xlink\">\r\n",
       "<g id=\"graph0\" class=\"graph\" transform=\"scale(0.78 0.78) rotate(0) translate(4 554)\">\r\n",
       "<title>Tree</title>\r\n",
       "<polygon fill=\"white\" stroke=\"transparent\" points=\"-4,4 -4,-554 920.67,-554 920.67,4 -4,4\"/>\r\n",
       "<!-- 0 -->\r\n",
       "<g id=\"node1\" class=\"node\">\r\n",
       "<title>0</title>\r\n",
       "<polygon fill=\"#eca26d\" stroke=\"black\" points=\"172.17,-336.5 29.17,-336.5 29.17,-268.5 172.17,-268.5 172.17,-336.5\"/>\r\n",
       "<text text-anchor=\"start\" x=\"37.17\" y=\"-321.3\" font-family=\"Times New Roman,serif\" font-size=\"14.00\">Coupler_System ≤ 0.5</text>\r\n",
       "<text text-anchor=\"start\" x=\"65.67\" y=\"-306.3\" font-family=\"Times New Roman,serif\" font-size=\"14.00\">mse = 0.459</text>\r\n",
       "<text text-anchor=\"start\" x=\"53.17\" y=\"-291.3\" font-family=\"Times New Roman,serif\" font-size=\"14.00\">samples = 20000</text>\r\n",
       "<text text-anchor=\"start\" x=\"59.67\" y=\"-276.3\" font-family=\"Times New Roman,serif\" font-size=\"14.00\">value = 10.122</text>\r\n",
       "</g>\r\n",
       "<!-- 1 -->\r\n",
       "<g id=\"node2\" class=\"node\">\r\n",
       "<title>1</title>\r\n",
       "<polygon fill=\"#ea9b63\" stroke=\"black\" points=\"406.17,-372.5 279.17,-372.5 279.17,-304.5 406.17,-304.5 406.17,-372.5\"/>\r\n",
       "<text text-anchor=\"start\" x=\"287.17\" y=\"-357.3\" font-family=\"Times New Roman,serif\" font-size=\"14.00\">YearMade ≤ 1985.5</text>\r\n",
       "<text text-anchor=\"start\" x=\"307.67\" y=\"-342.3\" font-family=\"Times New Roman,serif\" font-size=\"14.00\">mse = 0.403</text>\r\n",
       "<text text-anchor=\"start\" x=\"295.17\" y=\"-327.3\" font-family=\"Times New Roman,serif\" font-size=\"14.00\">samples = 18341</text>\r\n",
       "<text text-anchor=\"start\" x=\"301.67\" y=\"-312.3\" font-family=\"Times New Roman,serif\" font-size=\"14.00\">value = 10.207</text>\r\n",
       "</g>\r\n",
       "<!-- 0&#45;&gt;1 -->\r\n",
       "<g id=\"edge1\" class=\"edge\">\r\n",
       "<title>0&#45;&gt;1</title>\r\n",
       "<path fill=\"none\" stroke=\"black\" d=\"M172.38,-313.11C202.69,-317.65 238.08,-322.96 268.64,-327.55\"/>\r\n",
       "<polygon fill=\"black\" stroke=\"black\" points=\"268.4,-331.05 278.81,-329.07 269.44,-324.13 268.4,-331.05\"/>\r\n",
       "<text text-anchor=\"middle\" x=\"258.7\" y=\"-340.23\" font-family=\"Times New Roman,serif\" font-size=\"14.00\">True</text>\r\n",
       "</g>\r\n",
       "<!-- 8 -->\r\n",
       "<g id=\"node9\" class=\"node\">\r\n",
       "<title>8</title>\r\n",
       "<polygon fill=\"#fcefe6\" stroke=\"black\" points=\"406.17,-245.5 279.17,-245.5 279.17,-177.5 406.17,-177.5 406.17,-245.5\"/>\r\n",
       "<text text-anchor=\"start\" x=\"287.17\" y=\"-230.3\" font-family=\"Times New Roman,serif\" font-size=\"14.00\">YearMade ≤ 1997.5</text>\r\n",
       "<text text-anchor=\"start\" x=\"307.67\" y=\"-215.3\" font-family=\"Times New Roman,serif\" font-size=\"14.00\">mse = 0.115</text>\r\n",
       "<text text-anchor=\"start\" x=\"298.67\" y=\"-200.3\" font-family=\"Times New Roman,serif\" font-size=\"14.00\">samples = 1659</text>\r\n",
       "<text text-anchor=\"start\" x=\"304.67\" y=\"-185.3\" font-family=\"Times New Roman,serif\" font-size=\"14.00\">value = 9.181</text>\r\n",
       "</g>\r\n",
       "<!-- 0&#45;&gt;8 -->\r\n",
       "<g id=\"edge8\" class=\"edge\">\r\n",
       "<title>0&#45;&gt;8</title>\r\n",
       "<path fill=\"none\" stroke=\"black\" d=\"M172.38,-275.69C202.95,-264.1 238.69,-250.54 269.44,-238.89\"/>\r\n",
       "<polygon fill=\"black\" stroke=\"black\" points=\"270.7,-242.15 278.81,-235.33 268.21,-235.61 270.7,-242.15\"/>\r\n",
       "<text text-anchor=\"middle\" x=\"256.01\" y=\"-221.37\" font-family=\"Times New Roman,serif\" font-size=\"14.00\">False</text>\r\n",
       "</g>\r\n",
       "<!-- 2 -->\r\n",
       "<g id=\"node3\" class=\"node\">\r\n",
       "<title>2</title>\r\n",
       "<polygon fill=\"#f0b68d\" stroke=\"black\" points=\"660.17,-486.5 541.17,-486.5 541.17,-418.5 660.17,-418.5 660.17,-486.5\"/>\r\n",
       "<text text-anchor=\"start\" x=\"549.17\" y=\"-471.3\" font-family=\"Times New Roman,serif\" font-size=\"14.00\">ModelID ≤ 4178.5</text>\r\n",
       "<text text-anchor=\"start\" x=\"565.67\" y=\"-456.3\" font-family=\"Times New Roman,serif\" font-size=\"14.00\">mse = 0.332</text>\r\n",
       "<text text-anchor=\"start\" x=\"556.67\" y=\"-441.3\" font-family=\"Times New Roman,serif\" font-size=\"14.00\">samples = 5828</text>\r\n",
       "<text text-anchor=\"start\" x=\"562.67\" y=\"-426.3\" font-family=\"Times New Roman,serif\" font-size=\"14.00\">value = 9.879</text>\r\n",
       "</g>\r\n",
       "<!-- 1&#45;&gt;2 -->\r\n",
       "<g id=\"edge2\" class=\"edge\">\r\n",
       "<title>1&#45;&gt;2</title>\r\n",
       "<path fill=\"none\" stroke=\"black\" d=\"M406.29,-366.39C444.25,-383.29 492.7,-404.86 531.6,-422.19\"/>\r\n",
       "<polygon fill=\"black\" stroke=\"black\" points=\"530.2,-425.4 540.76,-426.27 533.05,-419 530.2,-425.4\"/>\r\n",
       "</g>\r\n",
       "<!-- 5 -->\r\n",
       "<g id=\"node6\" class=\"node\">\r\n",
       "<title>5</title>\r\n",
       "<polygon fill=\"#e88f4f\" stroke=\"black\" points=\"681.17,-372.5 520.17,-372.5 520.17,-304.5 681.17,-304.5 681.17,-372.5\"/>\r\n",
       "<text text-anchor=\"start\" x=\"528.17\" y=\"-357.3\" font-family=\"Times New Roman,serif\" font-size=\"14.00\">fiProductClassDesc ≤ 7.5</text>\r\n",
       "<text text-anchor=\"start\" x=\"565.67\" y=\"-342.3\" font-family=\"Times New Roman,serif\" font-size=\"14.00\">mse = 0.362</text>\r\n",
       "<text text-anchor=\"start\" x=\"553.17\" y=\"-327.3\" font-family=\"Times New Roman,serif\" font-size=\"14.00\">samples = 12513</text>\r\n",
       "<text text-anchor=\"start\" x=\"559.67\" y=\"-312.3\" font-family=\"Times New Roman,serif\" font-size=\"14.00\">value = 10.361</text>\r\n",
       "</g>\r\n",
       "<!-- 1&#45;&gt;5 -->\r\n",
       "<g id=\"edge5\" class=\"edge\">\r\n",
       "<title>1&#45;&gt;5</title>\r\n",
       "<path fill=\"none\" stroke=\"black\" d=\"M406.29,-338.5C437.28,-338.5 475.26,-338.5 509.32,-338.5\"/>\r\n",
       "<polygon fill=\"black\" stroke=\"black\" points=\"509.76,-342 519.76,-338.5 509.76,-335 509.76,-342\"/>\r\n",
       "</g>\r\n",
       "<!-- 3 -->\r\n",
       "<g id=\"node4\" class=\"node\">\r\n",
       "<title>3</title>\r\n",
       "<polygon fill=\"#eda673\" stroke=\"black\" points=\"895.67,-550 791.67,-550 791.67,-497 895.67,-497 895.67,-550\"/>\r\n",
       "<text text-anchor=\"start\" x=\"808.67\" y=\"-534.8\" font-family=\"Times New Roman,serif\" font-size=\"14.00\">mse = 0.359</text>\r\n",
       "<text text-anchor=\"start\" x=\"799.67\" y=\"-519.8\" font-family=\"Times New Roman,serif\" font-size=\"14.00\">samples = 2837</text>\r\n",
       "<text text-anchor=\"start\" x=\"802.67\" y=\"-504.8\" font-family=\"Times New Roman,serif\" font-size=\"14.00\">value = 10.082</text>\r\n",
       "</g>\r\n",
       "<!-- 2&#45;&gt;3 -->\r\n",
       "<g id=\"edge3\" class=\"edge\">\r\n",
       "<title>2&#45;&gt;3</title>\r\n",
       "<path fill=\"none\" stroke=\"black\" d=\"M660.31,-469.78C697.15,-480.63 744.56,-494.6 781.81,-505.57\"/>\r\n",
       "<polygon fill=\"black\" stroke=\"black\" points=\"780.96,-508.97 791.54,-508.44 782.94,-502.25 780.96,-508.97\"/>\r\n",
       "</g>\r\n",
       "<!-- 4 -->\r\n",
       "<g id=\"node5\" class=\"node\">\r\n",
       "<title>4</title>\r\n",
       "<polygon fill=\"#f3c6a5\" stroke=\"black\" points=\"895.67,-479 791.67,-479 791.67,-426 895.67,-426 895.67,-479\"/>\r\n",
       "<text text-anchor=\"start\" x=\"808.67\" y=\"-463.8\" font-family=\"Times New Roman,serif\" font-size=\"14.00\">mse = 0.229</text>\r\n",
       "<text text-anchor=\"start\" x=\"799.67\" y=\"-448.8\" font-family=\"Times New Roman,serif\" font-size=\"14.00\">samples = 2991</text>\r\n",
       "<text text-anchor=\"start\" x=\"805.67\" y=\"-433.8\" font-family=\"Times New Roman,serif\" font-size=\"14.00\">value = 9.686</text>\r\n",
       "</g>\r\n",
       "<!-- 2&#45;&gt;4 -->\r\n",
       "<g id=\"edge4\" class=\"edge\">\r\n",
       "<title>2&#45;&gt;4</title>\r\n",
       "<path fill=\"none\" stroke=\"black\" d=\"M660.31,-452.5C696.99,-452.5 744.16,-452.5 781.34,-452.5\"/>\r\n",
       "<polygon fill=\"black\" stroke=\"black\" points=\"781.54,-456 791.54,-452.5 781.54,-449 781.54,-456\"/>\r\n",
       "</g>\r\n",
       "<!-- 6 -->\r\n",
       "<g id=\"node7\" class=\"node\">\r\n",
       "<title>6</title>\r\n",
       "<polygon fill=\"#efb084\" stroke=\"black\" points=\"895.67,-408 791.67,-408 791.67,-355 895.67,-355 895.67,-408\"/>\r\n",
       "<text text-anchor=\"start\" x=\"808.67\" y=\"-392.8\" font-family=\"Times New Roman,serif\" font-size=\"14.00\">mse = 0.121</text>\r\n",
       "<text text-anchor=\"start\" x=\"799.67\" y=\"-377.8\" font-family=\"Times New Roman,serif\" font-size=\"14.00\">samples = 3681</text>\r\n",
       "<text text-anchor=\"start\" x=\"805.67\" y=\"-362.8\" font-family=\"Times New Roman,serif\" font-size=\"14.00\">value = 9.949</text>\r\n",
       "</g>\r\n",
       "<!-- 5&#45;&gt;6 -->\r\n",
       "<g id=\"edge6\" class=\"edge\">\r\n",
       "<title>5&#45;&gt;6</title>\r\n",
       "<path fill=\"none\" stroke=\"black\" d=\"M681.25,-352.7C713.89,-358.52 751.08,-365.16 781.53,-370.59\"/>\r\n",
       "<polygon fill=\"black\" stroke=\"black\" points=\"781.12,-374.07 791.58,-372.38 782.35,-367.18 781.12,-374.07\"/>\r\n",
       "</g>\r\n",
       "<!-- 7 -->\r\n",
       "<g id=\"node8\" class=\"node\">\r\n",
       "<title>7</title>\r\n",
       "<polygon fill=\"#e58139\" stroke=\"black\" points=\"895.67,-337 791.67,-337 791.67,-284 895.67,-284 895.67,-337\"/>\r\n",
       "<text text-anchor=\"start\" x=\"808.67\" y=\"-321.8\" font-family=\"Times New Roman,serif\" font-size=\"14.00\">mse = 0.363</text>\r\n",
       "<text text-anchor=\"start\" x=\"799.67\" y=\"-306.8\" font-family=\"Times New Roman,serif\" font-size=\"14.00\">samples = 8832</text>\r\n",
       "<text text-anchor=\"start\" x=\"802.67\" y=\"-291.8\" font-family=\"Times New Roman,serif\" font-size=\"14.00\">value = 10.532</text>\r\n",
       "</g>\r\n",
       "<!-- 5&#45;&gt;7 -->\r\n",
       "<g id=\"edge7\" class=\"edge\">\r\n",
       "<title>5&#45;&gt;7</title>\r\n",
       "<path fill=\"none\" stroke=\"black\" d=\"M681.25,-329.25C713.89,-325.46 751.08,-321.14 781.53,-317.6\"/>\r\n",
       "<polygon fill=\"black\" stroke=\"black\" points=\"782.05,-321.07 791.58,-316.44 781.24,-314.11 782.05,-321.07\"/>\r\n",
       "</g>\r\n",
       "<!-- 9 -->\r\n",
       "<g id=\"node10\" class=\"node\">\r\n",
       "<title>9</title>\r\n",
       "<polygon fill=\"#fefcfa\" stroke=\"black\" points=\"684.17,-245.5 517.17,-245.5 517.17,-177.5 684.17,-177.5 684.17,-245.5\"/>\r\n",
       "<text text-anchor=\"start\" x=\"525.17\" y=\"-230.3\" font-family=\"Times New Roman,serif\" font-size=\"14.00\">fiProductClassDesc ≤ 39.5</text>\r\n",
       "<text text-anchor=\"start\" x=\"569.17\" y=\"-215.3\" font-family=\"Times New Roman,serif\" font-size=\"14.00\">mse = 0.09</text>\r\n",
       "<text text-anchor=\"start\" x=\"559.67\" y=\"-200.3\" font-family=\"Times New Roman,serif\" font-size=\"14.00\">samples = 809</text>\r\n",
       "<text text-anchor=\"start\" x=\"566.17\" y=\"-185.3\" font-family=\"Times New Roman,serif\" font-size=\"14.00\">value = 9.02</text>\r\n",
       "</g>\r\n",
       "<!-- 8&#45;&gt;9 -->\r\n",
       "<g id=\"edge9\" class=\"edge\">\r\n",
       "<title>8&#45;&gt;9</title>\r\n",
       "<path fill=\"none\" stroke=\"black\" d=\"M406.29,-211.5C436.47,-211.5 473.29,-211.5 506.66,-211.5\"/>\r\n",
       "<polygon fill=\"black\" stroke=\"black\" points=\"506.9,-215 516.9,-211.5 506.9,-208 506.9,-215\"/>\r\n",
       "</g>\r\n",
       "<!-- 12 -->\r\n",
       "<g id=\"node13\" class=\"node\">\r\n",
       "<title>12</title>\r\n",
       "<polygon fill=\"#f9e3d2\" stroke=\"black\" points=\"676.17,-131.5 525.17,-131.5 525.17,-63.5 676.17,-63.5 676.17,-131.5\"/>\r\n",
       "<text text-anchor=\"start\" x=\"533.17\" y=\"-116.3\" font-family=\"Times New Roman,serif\" font-size=\"14.00\">MachineID ≤ 1000761.0</text>\r\n",
       "<text text-anchor=\"start\" x=\"565.67\" y=\"-101.3\" font-family=\"Times New Roman,serif\" font-size=\"14.00\">mse = 0.091</text>\r\n",
       "<text text-anchor=\"start\" x=\"559.67\" y=\"-86.3\" font-family=\"Times New Roman,serif\" font-size=\"14.00\">samples = 850</text>\r\n",
       "<text text-anchor=\"start\" x=\"562.67\" y=\"-71.3\" font-family=\"Times New Roman,serif\" font-size=\"14.00\">value = 9.334</text>\r\n",
       "</g>\r\n",
       "<!-- 8&#45;&gt;12 -->\r\n",
       "<g id=\"edge12\" class=\"edge\">\r\n",
       "<title>8&#45;&gt;12</title>\r\n",
       "<path fill=\"none\" stroke=\"black\" d=\"M406.29,-183.61C439.17,-168.97 479.93,-150.82 515.53,-134.97\"/>\r\n",
       "<polygon fill=\"black\" stroke=\"black\" points=\"517.23,-138.04 524.94,-130.78 514.38,-131.65 517.23,-138.04\"/>\r\n",
       "</g>\r\n",
       "<!-- 10 -->\r\n",
       "<g id=\"node11\" class=\"node\">\r\n",
       "<title>10</title>\r\n",
       "<polygon fill=\"#ffffff\" stroke=\"black\" points=\"892.67,-266 794.67,-266 794.67,-213 892.67,-213 892.67,-266\"/>\r\n",
       "<text text-anchor=\"start\" x=\"808.67\" y=\"-250.8\" font-family=\"Times New Roman,serif\" font-size=\"14.00\">mse = 0.073</text>\r\n",
       "<text text-anchor=\"start\" x=\"802.67\" y=\"-235.8\" font-family=\"Times New Roman,serif\" font-size=\"14.00\">samples = 678</text>\r\n",
       "<text text-anchor=\"start\" x=\"805.67\" y=\"-220.8\" font-family=\"Times New Roman,serif\" font-size=\"14.00\">value = 8.985</text>\r\n",
       "</g>\r\n",
       "<!-- 9&#45;&gt;10 -->\r\n",
       "<g id=\"edge10\" class=\"edge\">\r\n",
       "<title>9&#45;&gt;10</title>\r\n",
       "<path fill=\"none\" stroke=\"black\" d=\"M684.27,-221.1C717.18,-224.92 754.29,-229.23 784.31,-232.72\"/>\r\n",
       "<polygon fill=\"black\" stroke=\"black\" points=\"784.28,-236.24 794.61,-233.92 785.09,-229.29 784.28,-236.24\"/>\r\n",
       "</g>\r\n",
       "<!-- 11 -->\r\n",
       "<g id=\"node12\" class=\"node\">\r\n",
       "<title>11</title>\r\n",
       "<polygon fill=\"#fbede3\" stroke=\"black\" points=\"892.67,-195 794.67,-195 794.67,-142 892.67,-142 892.67,-195\"/>\r\n",
       "<text text-anchor=\"start\" x=\"808.67\" y=\"-179.8\" font-family=\"Times New Roman,serif\" font-size=\"14.00\">mse = 0.134</text>\r\n",
       "<text text-anchor=\"start\" x=\"802.67\" y=\"-164.8\" font-family=\"Times New Roman,serif\" font-size=\"14.00\">samples = 131</text>\r\n",
       "<text text-anchor=\"start\" x=\"805.67\" y=\"-149.8\" font-family=\"Times New Roman,serif\" font-size=\"14.00\">value = 9.204</text>\r\n",
       "</g>\r\n",
       "<!-- 9&#45;&gt;11 -->\r\n",
       "<g id=\"edge11\" class=\"edge\">\r\n",
       "<title>9&#45;&gt;11</title>\r\n",
       "<path fill=\"none\" stroke=\"black\" d=\"M684.27,-196.76C717.32,-190.86 754.61,-184.21 784.7,-178.84\"/>\r\n",
       "<polygon fill=\"black\" stroke=\"black\" points=\"785.39,-182.28 794.61,-177.07 784.16,-175.38 785.39,-182.28\"/>\r\n",
       "</g>\r\n",
       "<!-- 13 -->\r\n",
       "<g id=\"node14\" class=\"node\">\r\n",
       "<title>13</title>\r\n",
       "<polygon fill=\"#f6d1b7\" stroke=\"black\" points=\"892.67,-124 794.67,-124 794.67,-71 892.67,-71 892.67,-124\"/>\r\n",
       "<text text-anchor=\"start\" x=\"808.67\" y=\"-108.8\" font-family=\"Times New Roman,serif\" font-size=\"14.00\">mse = 0.059</text>\r\n",
       "<text text-anchor=\"start\" x=\"802.67\" y=\"-93.8\" font-family=\"Times New Roman,serif\" font-size=\"14.00\">samples = 182</text>\r\n",
       "<text text-anchor=\"start\" x=\"805.67\" y=\"-78.8\" font-family=\"Times New Roman,serif\" font-size=\"14.00\">value = 9.548</text>\r\n",
       "</g>\r\n",
       "<!-- 12&#45;&gt;13 -->\r\n",
       "<g id=\"edge13\" class=\"edge\">\r\n",
       "<title>12&#45;&gt;13</title>\r\n",
       "<path fill=\"none\" stroke=\"black\" d=\"M676.27,-97.5C711.07,-97.5 751.88,-97.5 784.37,-97.5\"/>\r\n",
       "<polygon fill=\"black\" stroke=\"black\" points=\"784.61,-101 794.61,-97.5 784.61,-94 784.61,-101\"/>\r\n",
       "</g>\r\n",
       "<!-- 14 -->\r\n",
       "<g id=\"node15\" class=\"node\">\r\n",
       "<title>14</title>\r\n",
       "<polygon fill=\"#fae7da\" stroke=\"black\" points=\"892.67,-53 794.67,-53 794.67,0 892.67,0 892.67,-53\"/>\r\n",
       "<text text-anchor=\"start\" x=\"808.67\" y=\"-37.8\" font-family=\"Times New Roman,serif\" font-size=\"14.00\">mse = 0.084</text>\r\n",
       "<text text-anchor=\"start\" x=\"802.67\" y=\"-22.8\" font-family=\"Times New Roman,serif\" font-size=\"14.00\">samples = 668</text>\r\n",
       "<text text-anchor=\"start\" x=\"805.67\" y=\"-7.8\" font-family=\"Times New Roman,serif\" font-size=\"14.00\">value = 9.275</text>\r\n",
       "</g>\r\n",
       "<!-- 12&#45;&gt;14 -->\r\n",
       "<g id=\"edge14\" class=\"edge\">\r\n",
       "<title>12&#45;&gt;14</title>\r\n",
       "<path fill=\"none\" stroke=\"black\" d=\"M676.27,-75.52C711.22,-65.22 752.23,-53.14 784.8,-43.55\"/>\r\n",
       "<polygon fill=\"black\" stroke=\"black\" points=\"786.01,-46.84 794.61,-40.66 784.03,-40.13 786.01,-46.84\"/>\r\n",
       "</g>\r\n",
       "</g>\r\n",
       "</svg>\r\n"
      ],
      "text/plain": [
       "<graphviz.files.Source at 0x1b8582daa30>"
      ]
     },
     "metadata": {},
     "output_type": "display_data"
    }
   ],
   "source": [
    "draw_tree(m.estimators_[0], df_trn, precision=3)"
   ]
  },
  {
   "cell_type": "markdown",
   "metadata": {},
   "source": [
    "一开始这里运行出现问题了，graphviz报错。\n",
    "\n",
    "> failed to execute ['dot', '-Kdot', '-Tsvg'], make sure the Graphviz executables are on your systems' PATH\n",
    "\n",
    "需要安装graphviz软件，参考：https://blog.csdn.net/HNUCSEE_LJK/article/details/86772806"
   ]
  },
  {
   "cell_type": "markdown",
   "metadata": {},
   "source": [
    "**总结一下如何生成这个树：**\n",
    "- 选一个参数\n",
    "- 选一种可行的分割方式，将数据分为两部分\n",
    "- 每部分计算均值(上图中的value)和MSE\n",
    "- 遍历所有可能，找到一种参数+分割方法，使其加权MSE最小，然后将测试数据分为两部分\n",
    "- 对于分割的两部分，继续使用上述方法，直到达到退出条件。 这个例子中退出条件就是树的深度达到3；如果没有指定深度，当其中只有一组数据时退出\n",
    "\n",
    "如何推理y：\n",
    "- 使用上面树的条件计算，直到走到某个叶子，这个叶子的均值即预测值\n",
    "\n",
    "> 对于每一个节点分割的算法，通用方法就是用mse，一般来说效果都不错。据说也有用其它算法的，比如线性回归，但是用的比较少"
   ]
  },
  {
   "cell_type": "markdown",
   "metadata": {},
   "source": [
    "## 多棵树模型"
   ]
  },
  {
   "cell_type": "markdown",
   "metadata": {},
   "source": [
    "也就是课程中说的bagging"
   ]
  },
  {
   "cell_type": "markdown",
   "metadata": {},
   "source": [
    "创建多颗树，每棵树的输入在测试集中随机选择, 每棵树的模型和其它树关联性尽可能小\n",
    "\n",
    "这样每颗树得到的结果都会有随机的偏差，当把所有树的结果取平均值后，就把偏差平均掉了，最终得到的结果是可信的\n",
    "\n",
    "> 问题：每棵树的输入随机选？数据量占测试集总量的多少？如何控制不同的树的输入不同（如果两颗树的输入雷同，那么他们的关联性就太大了，这样就做不到取平均之后能把偏差平均掉）？"
   ]
  },
  {
   "cell_type": "code",
   "execution_count": 52,
   "metadata": {},
   "outputs": [
    {
     "name": "stdout",
     "output_type": "stream",
     "text": [
      "Wall time: 3.79 s\n",
      "[0.0924436596201881, 0.3623092380526235, 0.9813902881569985, 0.7655734536876544]\n"
     ]
    }
   ],
   "source": [
    "m_multi = RandomForestRegressor(n_jobs=-1)\n",
    "%time m_multi.fit(X_train, y_train)\n",
    "print_score(m_multi)"
   ]
  },
  {
   "cell_type": "code",
   "execution_count": 27,
   "metadata": {},
   "outputs": [
    {
     "data": {
      "text/plain": [
       "100"
      ]
     },
     "execution_count": 27,
     "metadata": {},
     "output_type": "execute_result"
    }
   ],
   "source": [
    "len(m_multi.estimators_) #缺省创建100颗树，这里叫estimator"
   ]
  },
  {
   "cell_type": "markdown",
   "metadata": {},
   "source": [
    "下面分析每棵树得到的结果"
   ]
  },
  {
   "cell_type": "code",
   "execution_count": 32,
   "metadata": {},
   "outputs": [
    {
     "data": {
      "text/plain": [
       "(array([ 9.18502,  9.3501 ,  9.15905,  9.3501 ,  9.71112,  9.3501 ,  9.25913,  9.39266,  9.21034,  9.15905,\n",
       "         9.10498,  9.43348,  9.25913,  9.25913, 10.08581, 10.08581,  9.71112,  9.15905,  9.5819 ,  8.9872 ,\n",
       "         9.15905,  8.95545,  9.6486 ,  9.15905,  9.61581,  9.04782,  9.51044,  9.15905,  9.10498,  9.6486 ,\n",
       "         9.30565,  9.79813,  8.9359 ,  9.54681,  9.25913,  9.10498,  9.15905,  9.54681,  9.54681,  9.25913,\n",
       "         8.9359 ,  9.54681,  9.18502,  9.25913,  9.3501 ,  9.15905,  9.25913,  9.30565,  8.95545,  8.9359 ,\n",
       "         9.21034,  9.30565,  9.21034, 10.62133, 10.08581,  9.54681,  9.30565, 10.08581,  9.10498,  9.18502,\n",
       "         9.21034,  9.15905,  9.39266,  9.21034,  8.96188,  9.51044,  9.74097,  9.21034,  9.30565,  9.43348,\n",
       "         9.18502,  9.21034,  9.3501 ,  9.43348,  9.18502,  9.74097,  9.39266,  9.21034,  8.95545,  9.54681,\n",
       "         9.25913,  9.82553,  9.39266,  9.15905,  9.51044,  9.51044,  9.54681,  9.5819 ,  9.21034,  9.15905,\n",
       "         9.43348,  9.3501 ,  9.15905,  9.07681,  9.32812,  9.51044,  9.18502,  9.15905,  9.18502,  9.18502]),\n",
       " 9.348922566665681,\n",
       " 9.104979856318357)"
      ]
     },
     "execution_count": 32,
     "metadata": {},
     "output_type": "execute_result"
    }
   ],
   "source": [
    "preds = np.stack([t.predict(X_valid) for t in m_multi.estimators_])\n",
    "preds[:,0], np.mean(preds[:,0]), y_valid[0]"
   ]
  },
  {
   "cell_type": "markdown",
   "metadata": {},
   "source": [
    "preds保存了一个二维list\n",
    "\n",
    "也就是一个100行，12000列的矩阵\n",
    "\n",
    "每一行保存了一颗树对于所有验证集的计算结果，验证集有12000个数据\n",
    "\n",
    "每一列可以认为是一个验证集，在所有100颗树上的计算结果\n",
    "\n",
    "> 课程的例子来看，默认是10颗树，可能是sktlearn的版本不一样"
   ]
  },
  {
   "cell_type": "code",
   "execution_count": 41,
   "metadata": {},
   "outputs": [
    {
     "data": {
      "text/plain": [
       "(array([[9.18502, 9.3501 , 9.07681, ..., 9.4727 , 9.21034, 9.21034],\n",
       "        [9.3501 , 9.61581, 9.04782, ..., 9.5819 , 9.5819 , 9.5819 ],\n",
       "        [9.15905, 9.74097, 9.15905, ..., 9.4727 , 9.4727 , 9.4727 ],\n",
       "        ...,\n",
       "        [9.15905, 9.3501 , 9.04782, ..., 9.01797, 9.01797, 9.01797],\n",
       "        [9.18502, 9.3501 , 9.21034, ..., 9.6486 , 9.6486 , 9.6486 ],\n",
       "        [9.18502, 8.9872 , 8.94898, ..., 9.68034, 8.9359 , 8.9359 ]]),\n",
       " 12000,\n",
       " 100,\n",
       " (100, 12000),\n",
       " dtype('float64'))"
      ]
     },
     "execution_count": 41,
     "metadata": {},
     "output_type": "execute_result"
    }
   ],
   "source": [
    "preds, len(preds[0]), len(preds[:,0]), preds.shape"
   ]
  },
  {
   "cell_type": "code",
   "execution_count": 44,
   "metadata": {},
   "outputs": [
    {
     "data": {
      "image/png": "[encoded data removed]",
      "text/plain": [
       "<Figure size 432x288 with 1 Axes>"
      ]
     },
     "metadata": {
      "needs_background": "light"
     },
     "output_type": "display_data"
    }
   ],
   "source": [
    "plt.plot([metrics.r2_score(y_valid, np.mean(preds[:i+1], axis=0)) for i in range(100)]);"
   ]
  },
  {
   "cell_type": "markdown",
   "metadata": {},
   "source": [
    "可以看到，在用20颗左右的树之后，增加树的数量，对r-squere的结果就没有太大帮助了"
   ]
  },
  {
   "cell_type": "markdown",
   "metadata": {},
   "source": [
    "## OOB"
   ]
  },
  {
   "cell_type": "markdown",
   "metadata": {},
   "source": [
    "OOB(out-of-bag) score:\n",
    "\n",
    "前面所说的bagging(打包)，不同的树使用随机的输入；\n",
    "\n",
    "oob score就是，在计算测试集的error时，每棵树只选择训练时未被选中的那部分数据，相当于包含在测试集中的validation data\n",
    "\n",
    "当训练集数据量较少，单独分出validation set会导致训练不足时，也可以用这种方法\n",
    "\n",
    "> 这里还是有些迷糊的  \n",
    "计算score的时候，应该是把整个forest作为一个模型去计算f的吧\n",
    "那么oob score的输入是怎么选的？ 要求所有的树都没有使用这条数据进行训练么？ 那不就是验证集么？\n",
    "或者说不是把forest作为整个模型，每颗树选择的输入都不同，那最终的f怎么得到呢？不应该是所有树结果的均值么？\n",
    "视频中的说法是，不同的树用不同的数据计算，然后把这些结果求平均，得到obb score"
   ]
  },
  {
   "cell_type": "code",
   "execution_count": 56,
   "metadata": {},
   "outputs": [
    {
     "name": "stdout",
     "output_type": "stream",
     "text": [
      "Wall time: 4 s\n",
      "[0.09245785500720259, 0.35776686947082664, 0.9813845724087107, 0.7714147433964127, 0.8651831302387963]\n"
     ]
    }
   ],
   "source": [
    "m3 = RandomForestRegressor(n_jobs=-1, oob_score=True)\n",
    "%time m3.fit(X_train, y_train)\n",
    "print_score(m3)"
   ]
  },
  {
   "cell_type": "markdown",
   "metadata": {},
   "source": [
    "上面的输出中，最后一个是oobscore，可以看到它的值介于测试集的score和验证集的score之间\n",
    "\n",
    "> 这个和视频中展示的不同，视频中oob score甚至比 valid set的score稍小一点   \n",
    "可能和数据量有关，后面使用大量数据的情况，oob比valid小一丢丢，据说一般是这种情况。树的数量越多，结果越接近\n",
    "\n",
    "\n",
    "\n",
    "> 增加这个参数后，验证集的score有一丢丢提升。  \n",
    "为什么会有提升？ 理论上只是增加了个评价标准，并没有影响树的生成。  \n",
    "当然这个提升也并不明显。由于数据是随机选的，多次运行得到的score在1%上下浮动。  \n",
    "运行时间到是显著增加了\n",
    "\n",
    "OOB score是调正超参的重要依据"
   ]
  },
  {
   "cell_type": "markdown",
   "metadata": {},
   "source": [
    "## 减少过拟合"
   ]
  },
  {
   "cell_type": "markdown",
   "metadata": {},
   "source": [
    "**首先我们用测试集的所有数据再跑一遍，方便后面对比效果**"
   ]
  },
  {
   "cell_type": "code",
   "execution_count": 57,
   "metadata": {},
   "outputs": [],
   "source": [
    "X_train, X_valid = split_vals(df, n_trn)\n",
    "y_train, y_valid = split_vals(y, n_trn)"
   ]
  },
  {
   "cell_type": "code",
   "execution_count": 63,
   "metadata": {},
   "outputs": [
    {
     "data": {
      "text/plain": [
       "((389125, 66), (389125,), (12000, 66), (12000,))"
      ]
     },
     "execution_count": 63,
     "metadata": {},
     "output_type": "execute_result"
    }
   ],
   "source": [
    "X_train.shape, y_train.shape, X_valid.shape, y_valid.shape"
   ]
  },
  {
   "cell_type": "code",
   "execution_count": 64,
   "metadata": {},
   "outputs": [
    {
     "name": "stdout",
     "output_type": "stream",
     "text": [
      "Wall time: 3min 8s\n",
      "[0.07573459822159995, 0.2364099127917242, 0.9880126419440564, 0.9001887856247848, 0.9128652804152524]\n"
     ]
    }
   ],
   "source": [
    "m = RandomForestRegressor(n_jobs=-1, oob_score=True)\n",
    "%time m.fit(X_train, y_train)\n",
    "print_score(m)"
   ]
  },
  {
   "cell_type": "markdown",
   "metadata": {},
   "source": [
    "### 方法1：Subsampling"
   ]
  },
  {
   "cell_type": "markdown",
   "metadata": {},
   "source": [
    "基本思路：限制每颗树输入数据的数量，并且保证每棵树随到不同的数据，那么在使用足够多颗树的情况下，是可以看到测试集中所有的数据的    \n",
    "同时还能减少训练时间"
   ]
  },
  {
   "cell_type": "code",
   "execution_count": 66,
   "metadata": {},
   "outputs": [],
   "source": [
    "set_rf_samples(20000)  #控制每个树的输入样本数量"
   ]
  },
  {
   "cell_type": "code",
   "execution_count": 67,
   "metadata": {},
   "outputs": [
    {
     "name": "stdout",
     "output_type": "stream",
     "text": [
      "Wall time: 3min 24s\n",
      "[0.07582903131738004, 0.2363407545452055, 0.9879827293518535, 0.900247173691815, 0.9127588590153617]\n"
     ]
    }
   ],
   "source": [
    "m = RandomForestRegressor(n_jobs=-1, oob_score=True)\n",
    "%time m.fit(X_train, y_train)\n",
    "print_score(m)"
   ]
  },
  {
   "cell_type": "code",
   "execution_count": 68,
   "metadata": {},
   "outputs": [
    {
     "name": "stdout",
     "output_type": "stream",
     "text": [
      "Wall time: 1min 39s\n",
      "[0.07755042244116728, 0.23642768452613463, 0.9874309295094958, 0.9001737787661969, 0.9097784955449063]\n"
     ]
    }
   ],
   "source": [
    "m = RandomForestRegressor(n_estimators=50, n_jobs=-1, oob_score=True)\n",
    "%time m.fit(X_train, y_train)\n",
    "print_score(m)"
   ]
  },
  {
   "cell_type": "code",
   "execution_count": 70,
   "metadata": {},
   "outputs": [
    {
     "name": "stderr",
     "output_type": "stream",
     "text": [
      "C:\\Users\\kongxiangyu\\anaconda3\\lib\\site-packages\\sklearn\\ensemble\\_forest.py:832: UserWarning: Some inputs do not have OOB scores. This probably means too few trees were used to compute any reliable oob estimates.\n",
      "  warn(\"Some inputs do not have OOB scores. \"\n"
     ]
    },
    {
     "name": "stdout",
     "output_type": "stream",
     "text": [
      "Wall time: 19.7 s\n",
      "[0.09054096561239536, 0.2535534285462015, 0.9828673292084723, 0.8851880881501271, -1.2431719994052015]\n"
     ]
    }
   ],
   "source": [
    "m = RandomForestRegressor(n_estimators=10, n_jobs=-1, oob_score=True)\n",
    "%time m.fit(X_train, y_train)\n",
    "print_score(m)"
   ]
  },
  {
   "cell_type": "markdown",
   "metadata": {},
   "source": [
    "可以看到树的数量对效果是有影响的，但是50-100并没有太大差别"
   ]
  },
  {
   "cell_type": "markdown",
   "metadata": {},
   "source": [
    "> 有点怀疑set_rf_samples是否还能起到课程上说的作用。 因为树的数量是10的时候，已经出告警了。   \n",
    "运行时间也不像课程里说的会减少，并没有显著变化\n",
    "后面再详细研究"
   ]
  },
  {
   "cell_type": "code",
   "execution_count": 69,
   "metadata": {},
   "outputs": [],
   "source": [
    "??set_rf_samples"
   ]
  },
  {
   "cell_type": "markdown",
   "metadata": {},
   "source": [
    "### 方法2.修改各种超参"
   ]
  },
  {
   "cell_type": "code",
   "execution_count": 71,
   "metadata": {},
   "outputs": [],
   "source": [
    "reset_rf_samples() #还原"
   ]
  },
  {
   "cell_type": "markdown",
   "metadata": {},
   "source": [
    "#### min_samples_leaf"
   ]
  },
  {
   "cell_type": "markdown",
   "metadata": {},
   "source": [
    "Another way to reduce over-fitting is to grow our trees less deeply. We do this by specifying (with `min_samples_leaf`) that we require some minimum number of rows in every leaf node. This has two benefits:\n",
    "\n",
    "- There are less decision rules for each leaf node; simpler models should generalize better\n",
    "- The predictions are made by averaging more rows in the leaf node, resulting in less volatility"
   ]
  },
  {
   "cell_type": "code",
   "execution_count": 72,
   "metadata": {},
   "outputs": [],
   "source": [
    "def dectree_max_depth(tree):\n",
    "    children_left = tree.children_left\n",
    "    children_right = tree.children_right\n",
    "\n",
    "    def walk(node_id):\n",
    "        if (children_left[node_id] != children_right[node_id]):\n",
    "            left_max = 1 + walk(children_left[node_id])\n",
    "            right_max = 1 + walk(children_right[node_id])\n",
    "            return max(left_max, right_max)\n",
    "        else: # leaf\n",
    "            return 1\n",
    "\n",
    "    root_node_id = 0\n",
    "    return walk(root_node_id)"
   ]
  },
  {
   "cell_type": "markdown",
   "metadata": {},
   "source": [
    "上面函数，实现了遍历获取树的深度"
   ]
  },
  {
   "cell_type": "code",
   "execution_count": 74,
   "metadata": {},
   "outputs": [
    {
     "name": "stdout",
     "output_type": "stream",
     "text": [
      "Wall time: 1min 5s\n",
      "[0.07842683110401216, 0.23835342931898904, 0.9871452344325385, 0.8985409518863835, 0.9085100051584507]\n"
     ]
    }
   ],
   "source": [
    "m = RandomForestRegressor(n_estimators=40, n_jobs=-1, oob_score=True)\n",
    "%time m.fit(X_train, y_train)\n",
    "print_score(m)"
   ]
  },
  {
   "cell_type": "code",
   "execution_count": 77,
   "metadata": {},
   "outputs": [
    {
     "data": {
      "text/plain": [
       "45"
      ]
     },
     "execution_count": 77,
     "metadata": {},
     "output_type": "execute_result"
    }
   ],
   "source": [
    "t=m.estimators_[0].tree_\n",
    "dectree_max_depth(t)"
   ]
  },
  {
   "cell_type": "code",
   "execution_count": 83,
   "metadata": {},
   "outputs": [],
   "source": [
    "t=[m.estimators_[i].tree_ for i in range(40)]\n",
    "depth = [dectree_max_depth(tt) for tt in t]"
   ]
  },
  {
   "cell_type": "code",
   "execution_count": 90,
   "metadata": {},
   "outputs": [
    {
     "name": "stdout",
     "output_type": "stream",
     "text": [
      "[45, 51, 46, 45, 44, 52, 48, 48, 46, 48, 46, 47, 46, 46, 49, 47, 46, 50, 47, 49, 46, 50, 46, 47, 49, 46, 45, 47, 48, 44, 46, 47, 48, 46, 47, 46, 53, 50, 47, 48]\n"
     ]
    },
    {
     "data": {
      "text/plain": [
       "53"
      ]
     },
     "execution_count": 90,
     "metadata": {},
     "output_type": "execute_result"
    }
   ],
   "source": [
    "print(depth)\n",
    "max(depth)"
   ]
  },
  {
   "cell_type": "markdown",
   "metadata": {},
   "source": [
    "`min_samples_leaf`表示每个叶子里最少的数据个数，默认是1，通过修改这个，可以减少树的深度  \n",
    "常见的参数有1， 3， 5， 10 ，25等；如果训练数据量很大，这个值也可以设置很大(比如1000)"
   ]
  },
  {
   "cell_type": "code",
   "execution_count": 91,
   "metadata": {},
   "outputs": [
    {
     "name": "stdout",
     "output_type": "stream",
     "text": [
      "Wall time: 1min 13s\n",
      "[0.14059507862172455, 0.23393663493650746, 0.958688110022044, 0.9022662751546815, 0.9070951272852408]\n"
     ]
    }
   ],
   "source": [
    "m = RandomForestRegressor(n_estimators=40, min_samples_leaf=5, n_jobs=-1, oob_score=True)\n",
    "%time m.fit(X_train, y_train)\n",
    "print_score(m)"
   ]
  },
  {
   "cell_type": "code",
   "execution_count": 92,
   "metadata": {},
   "outputs": [
    {
     "name": "stdout",
     "output_type": "stream",
     "text": [
      "[36, 37, 39, 35, 39, 38, 38, 37, 37, 38, 38, 37, 37, 37, 37, 36, 37, 35, 38, 40, 38, 39, 36, 37, 36, 36, 37, 37, 37, 38, 37, 36, 37, 35, 35, 37, 36, 36, 38, 37] 40\n"
     ]
    }
   ],
   "source": [
    "depth = [dectree_max_depth(m.estimators_[i].tree_) for i in range(40)]\n",
    "print(depth, max(depth))"
   ]
  },
  {
   "cell_type": "markdown",
   "metadata": {},
   "source": [
    "`min_samples_leaf`设置成5，可以看到树的深度变小了，测试集的r-score有一丢丢改善  \n",
    "时间并没有优化"
   ]
  },
  {
   "cell_type": "code",
   "execution_count": 94,
   "metadata": {},
   "outputs": [
    {
     "name": "stdout",
     "output_type": "stream",
     "text": [
      "Wall time: 59.6 s\n",
      "[0.2066306126002002, 0.24542269528909635, 0.9107672756427797, 0.8924334061651451, 0.8923276124803247]\n"
     ]
    }
   ],
   "source": [
    "m = RandomForestRegressor(n_estimators=40, min_samples_leaf=25, n_jobs=-1, oob_score=True)\n",
    "%time m.fit(X_train, y_train)\n",
    "print_score(m)"
   ]
  },
  {
   "cell_type": "code",
   "execution_count": 95,
   "metadata": {},
   "outputs": [
    {
     "name": "stdout",
     "output_type": "stream",
     "text": [
      "[27, 29, 29, 29, 28, 31, 27, 30, 28, 29, 29, 27, 29, 30, 27, 28, 28, 28, 27, 30, 28, 27, 27, 28, 28, 28, 30, 27, 27, 28, 29, 28, 28, 27, 28, 27, 28, 28, 28, 28] 31\n"
     ]
    }
   ],
   "source": [
    "depth = [dectree_max_depth(m.estimators_[i].tree_) for i in range(40)]\n",
    "print(depth, max(depth))"
   ]
  },
  {
   "cell_type": "markdown",
   "metadata": {},
   "source": [
    "#### max_features"
   ]
  },
  {
   "cell_type": "markdown",
   "metadata": {},
   "source": [
    "使用`max_features`,在计算树的每一个分支时，随机的使用不同的列\n",
    "> 注意这个和前面`set_rf_samples`的作用域是不同的，这里是对树的每一个分支取不同的随机列"
   ]
  },
  {
   "cell_type": "code",
   "execution_count": 96,
   "metadata": {},
   "outputs": [
    {
     "name": "stdout",
     "output_type": "stream",
     "text": [
      "Wall time: 39.7 s\n",
      "[0.14466983290519936, 0.2304217584670692, 0.9562587906888349, 0.9051810924665435, 0.9100651284613783]\n"
     ]
    }
   ],
   "source": [
    "m = RandomForestRegressor(n_estimators=40, min_samples_leaf=5, max_features=0.5, n_jobs=-1, oob_score=True)\n",
    "%time m.fit(X_train, y_train)\n",
    "print_score(m)"
   ]
  },
  {
   "cell_type": "markdown",
   "metadata": {},
   "source": [
    "性能有提升，效果没有大差别"
   ]
  },
  {
   "cell_type": "markdown",
   "metadata": {},
   "source": [
    "# 就到这里了，下一课继续"
   ]
  },
  {
   "cell_type": "code",
   "execution_count": null,
   "metadata": {},
   "outputs": [],
   "source": []
  }
 ],
 "metadata": {
  "kernelspec": {
   "display_name": "Python 3",
   "language": "python",
   "name": "python3"
  },
  "language_info": {
   "codemirror_mode": {
    "name": "ipython",
    "version": 3
   },
   "file_extension": ".py",
   "mimetype": "text/x-python",
   "name": "python",
   "nbconvert_exporter": "python",
   "pygments_lexer": "ipython3",
   "version": "3.8.5"
  }
 },
 "nbformat": 4,
 "nbformat_minor": 4
}
